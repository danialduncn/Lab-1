{
 "cells": [
  {
   "cell_type": "code",
   "execution_count": 1,
   "id": "c45a63fc-a10a-4699-9f64-0a6b6d2a12aa",
   "metadata": {},
   "outputs": [
    {
     "name": "stdout",
     "output_type": "stream",
     "text": [
      "Requirement already satisfied: PyPDF2 in c:\\users\\oc\\anaconda3\\lib\\site-packages (3.0.1)\n",
      "Note: you may need to restart the kernel to use updated packages.\n"
     ]
    }
   ],
   "source": [
    "pip install PyPDF2"
   ]
  },
  {
   "cell_type": "code",
   "execution_count": 1,
   "id": "51708e47-233a-4f5e-88db-f924cae36936",
   "metadata": {},
   "outputs": [],
   "source": [
    "import PyPDF2"
   ]
  },
  {
   "cell_type": "code",
   "execution_count": 3,
   "id": "3a08079e-d107-4a17-9c44-afbb1768acfb",
   "metadata": {},
   "outputs": [],
   "source": [
    "f = open('Business_Proposal.pdf','rb')"
   ]
  },
  {
   "cell_type": "code",
   "execution_count": 4,
   "id": "8dca449c-f5e4-41c5-a351-5ac70e403cf0",
   "metadata": {},
   "outputs": [],
   "source": [
    "pdf_reader = PyPDF2.PdfReader(f)"
   ]
  },
  {
   "cell_type": "code",
   "execution_count": 5,
   "id": "d9d187c2-c632-41a8-a239-87dab4f1f9d5",
   "metadata": {},
   "outputs": [
    {
     "data": {
      "text/plain": [
       "2"
      ]
     },
     "execution_count": 5,
     "metadata": {},
     "output_type": "execute_result"
    }
   ],
   "source": [
    "len(pdf_reader.pages)"
   ]
  },
  {
   "cell_type": "code",
   "execution_count": 7,
   "id": "555df2a7-09ab-49b6-8121-15a2e801e802",
   "metadata": {},
   "outputs": [
    {
     "data": {
      "text/plain": [
       "'Business Proposal  \\nThe Revolution is Coming  \\nLeverage agile frameworks to provide a robust synopsis for high level  \\noverviews. Iterative approaches to corporate strategy foster collaborative  \\nthinking to further the overall value proposition. Organically grow the  \\nholistic world view of disruptive innovation via workplace diversity and  \\nempowerment.  \\nBring to the table win -win survival strategies to ensure proactive  \\ndomination. At the end of the day, going forward, a new normal that has  \\nevolved from generation X is on the runway heading towards a streamlined  \\ncloud solution. User generated content in real -time will have multi ple \\ntouchpoints for offshoring.  \\nCapitalize on low hanging fruit to identify a ballpark value added activity to  \\nbeta test. Override the digital divide with additional clickthroughs from  \\nDevOps. Nanotechnology immersion along the information highway will  \\nclose the loop on focusing solely on the bottom line.  \\nPodcasting operational change management inside of workflows to  \\nestablish a framework. Taking seamless key performance indicators offline  \\nto maximise the long tail. Keeping your eye on the ball while perfo rming a  \\ndeep dive on the start -up mentality to derive convergence on crossplatform  \\nintegration.  \\nCollaboratively administrate empowered markets via plug -and-play \\nnetworks. Dynamically procrastinate B2C users after installed base  \\nbenefits. Dramatically visua lize customer directed convergence without  \\nrevolutionary ROI.  \\nEfficiently unleash cross -media information without cross -media value.  \\nQuickly maximize timely deliverables for real -time schemas. Dramatically  \\nmaintain clicks -and-mortar solutions without funct ional solutio ns. \\n  '"
      ]
     },
     "execution_count": 7,
     "metadata": {},
     "output_type": "execute_result"
    }
   ],
   "source": [
    "page_one = pdf_reader.pages[0]\n",
    "page_one_text = page_one.extract_text()\n",
    "page_one_text"
   ]
  },
  {
   "cell_type": "code",
   "execution_count": 8,
   "id": "decb6db8-174b-4c14-884f-03e48dd03a53",
   "metadata": {},
   "outputs": [
    {
     "name": "stdout",
     "output_type": "stream",
     "text": [
      "Page 2:\n",
      "AUTHORS:  \n",
      "Amy Baker, Finance Chair, x345, abaker@ourcompany.com  \n",
      "Chris Donaldson, Accounting Dir., x621, cdonaldson@ourcompany.com  \n",
      "Erin Freeman, Sr. VP, x879, efreeman@ourcompany.com  \n",
      "\n"
     ]
    }
   ],
   "source": [
    "# Open the PDF file in binary mode\n",
    "with open('Business_Proposal.pdf', 'rb') as f:\n",
    " # Create a PDF reader object\n",
    " pdf_reader = PyPDF2.PdfReader(f)\n",
    " # Get the total number of pages\n",
    " total_pages = len(pdf_reader.pages)\n",
    " # Iterate over all pages and extract text\n",
    " for page_number in range(2):\n",
    "     page = pdf_reader.pages[page_number]\n",
    "     page_text = page.extract_text()\n",
    " # Print the extracted text for each page\n",
    " print(f\"Page {page_number + 1}:\\n{page_text}\\n\")"
   ]
  },
  {
   "cell_type": "code",
   "execution_count": null,
   "id": "06a040d4-17a4-4fe2-a387-32d31ba0d89c",
   "metadata": {},
   "outputs": [],
   "source": []
  }
 ],
 "metadata": {
  "kernelspec": {
   "display_name": "Python 3 (ipykernel)",
   "language": "python",
   "name": "python3"
  },
  "language_info": {
   "codemirror_mode": {
    "name": "ipython",
    "version": 3
   },
   "file_extension": ".py",
   "mimetype": "text/x-python",
   "name": "python",
   "nbconvert_exporter": "python",
   "pygments_lexer": "ipython3",
   "version": "3.11.7"
  }
 },
 "nbformat": 4,
 "nbformat_minor": 5
}
